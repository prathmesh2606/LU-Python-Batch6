{
 "cells": [
  {
   "cell_type": "markdown",
   "metadata": {},
   "source": [
    "# Assignment 1"
   ]
  },
  {
   "cell_type": "code",
   "execution_count": 60,
   "metadata": {},
   "outputs": [
    {
     "data": {
      "text/plain": [
       "[1, 1, 1, 2, 2, 3, 4, 4, 10, 56, 56, 0, 0, 0, 0, 0]"
      ]
     },
     "execution_count": 60,
     "metadata": {},
     "output_type": "execute_result"
    }
   ],
   "source": [
    "list1 = [0,1,2,10,4,1,0,56,2,0,1,3,0,56,0,4]\n",
    "list1_1 = []\n",
    "list1_2 = []\n",
    "\n",
    "Num_of_zeroes = list1.count(0)\n",
    "\n",
    "for each in list1:\n",
    "    if each != 0:\n",
    "        list1_1.append(each)\n",
    "\n",
    "list1_2 = [0]*Num_of_zeroes\n",
    "\n",
    "list1_1.sort()\n",
    "list1_1 + list1_2 \n"
   ]
  },
  {
   "cell_type": "markdown",
   "metadata": {},
   "source": [
    "# Assignment 2"
   ]
  },
  {
   "cell_type": "code",
   "execution_count": 66,
   "metadata": {},
   "outputs": [
    {
     "data": {
      "text/plain": [
       "[5, 10, 15, 20, 25, 35, 40, 45, 60, 60, 70, 80]"
      ]
     },
     "execution_count": 66,
     "metadata": {},
     "output_type": "execute_result"
    }
   ],
   "source": [
    "list2 = [10,20,40,60,70,80]\n",
    "list3 = [5,15,25,35,45,60]\n",
    "list4 = list2 + list3\n",
    " \n",
    "def sortArrays(arr):  \n",
    "    length = len(arr) \n",
    "    j = 0\n",
    "  \n",
    "    while j < length - 1: \n",
    "        if (arr[j] > arr[j + 1]): \n",
    "            arr[j],arr[j+1] = arr[j+1],arr[j]\n",
    "            j = -1\n",
    "        j += 1\n",
    "    return arr \n",
    "\n",
    "sortArrays(list4)"
   ]
  }
 ],
 "metadata": {
  "kernelspec": {
   "display_name": "Python 3",
   "language": "python",
   "name": "python3"
  },
  "language_info": {
   "codemirror_mode": {
    "name": "ipython",
    "version": 3
   },
   "file_extension": ".py",
   "mimetype": "text/x-python",
   "name": "python",
   "nbconvert_exporter": "python",
   "pygments_lexer": "ipython3",
   "version": "3.7.6"
  }
 },
 "nbformat": 4,
 "nbformat_minor": 4
}
